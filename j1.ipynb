{
 "cells": [
  {
   "metadata": {
    "ExecuteTime": {
     "end_time": "2025-09-28T18:22:21.282983Z",
     "start_time": "2025-09-28T18:22:20.655890Z"
    }
   },
   "cell_type": "code",
   "source": [
    "import fitz  # PyMuPDF\n",
    "\n",
    "\n",
    "def extract_text_pymupdf(pdf_path):\n",
    "    text = \"\"\n",
    "    doc = fitz.open(pdf_path)\n",
    "    for page in doc:\n",
    "        text += page.get_text(\"text\") + \"\\n\"\n",
    "    return text\n",
    "\n",
    "\n",
    "pdf_text = extract_text_pymupdf(\"1659341275-.pdf\")\n",
    "\n",
    "chunk_size = 200\n",
    "chunks = [pdf_text[i:i + chunk_size] for i in range(0, len(pdf_text), chunk_size)]  # تقسیم به chunks"
   ],
   "id": "3defd9ebb452b2e4",
   "outputs": [],
   "execution_count": 1
  },
  {
   "metadata": {
    "ExecuteTime": {
     "end_time": "2025-09-28T18:23:10.525997Z",
     "start_time": "2025-09-28T18:22:21.284045Z"
    }
   },
   "cell_type": "code",
   "source": [
    "from sentence_transformers import SentenceTransformer  # SentenceTransformer.shape() --> مثلاً ۳۸۴ یا ۷۶۸ بعدی\n",
    "import numpy as np\n",
    "\n",
    "# مدل چندزبانه MiniLM که فارسی رو هم پشتیبانی می‌کنه\n",
    "embedder = SentenceTransformer(\"paraphrase-multilingual-MiniLM-L12-v2\")\n",
    "\n",
    "# گرفتن embedding برای هر chunk\n",
    "embeddings = embedder.encode(chunks, convert_to_tensor=False)\n",
    "embeddings = np.array(embeddings).astype(\"float32\")  # خروجی تبدیل به float32 میشه چون FAISS فقط با float32 کار می‌کنه.\n",
    "\n",
    "# اینجا embeddingها رو داخل یک دیتابیس سریع جستجو قرار می‌دیم:\n",
    "import faiss\n",
    "\n",
    "dimension = embeddings.shape[1]  # تعداد ابعاد بردار (مثلاً 384)\n",
    "index = faiss.IndexFlatL2(dimension)  # یعنی جستجو بر اساس فاصله اقلیدسی L2\n",
    "index.add(embeddings)\n"
   ],
   "id": "b2c3027344c73bc7",
   "outputs": [
    {
     "name": "stdout",
     "output_type": "stream",
     "text": [
      "WARNING:tensorflow:From D:\\PycharmProjects\\DeepSeek\\.venv\\Lib\\site-packages\\tf_keras\\src\\losses.py:2976: The name tf.losses.sparse_softmax_cross_entropy is deprecated. Please use tf.compat.v1.losses.sparse_softmax_cross_entropy instead.\n",
      "\n"
     ]
    }
   ],
   "execution_count": 2
  },
  {
   "metadata": {
    "ExecuteTime": {
     "end_time": "2025-09-28T18:23:10.529471Z",
     "start_time": "2025-09-28T18:23:10.526749Z"
    }
   },
   "cell_type": "code",
   "source": [
    "# جستجوی chunkهای مرتبط\n",
    "\n",
    "def retrive_relevant_chunks(query, top_k=3):\n",
    "    query_embedding = embedder.encode([query], convert_to_tensor=False).astype(\"float32\")\n",
    "    distances, indexes = index.search(query_embedding, top_k)\n",
    "    return [chunks[i] for i in indexes[0]]"
   ],
   "id": "275e8cb02b9dfb33",
   "outputs": [],
   "execution_count": 3
  },
  {
   "metadata": {
    "ExecuteTime": {
     "end_time": "2025-09-28T18:23:15.626960Z",
     "start_time": "2025-09-28T18:23:10.530255Z"
    }
   },
   "cell_type": "code",
   "source": [
    "from transformers import AutoTokenizer, AutoModelForCausalLM\n",
    "import torch\n",
    "\n",
    "model_name = \"deepseek-ai/DeepSeek-R1-Distill-Qwen-1.5B\"\n",
    "tokenizer = AutoTokenizer.from_pretrained(model_name)\n",
    "# نصف دقت (half precision) استفاده می‌کنه → سرعت بیشتر و مصرف RAM کمتر.\n",
    "model = AutoModelForCausalLM.from_pretrained(model_name, device_map=\"auto\", dtype=torch.float16)\n"
   ],
   "id": "e29122f73d265c45",
   "outputs": [],
   "execution_count": 4
  },
  {
   "metadata": {
    "ExecuteTime": {
     "end_time": "2025-09-28T18:23:15.631189Z",
     "start_time": "2025-09-28T18:23:15.627786Z"
    }
   },
   "cell_type": "code",
   "source": [
    "def generate_response(query, top_k=3, max_new_tokens=150):\n",
    "    relevant_chunks = retrive_relevant_chunks(query, top_k=top_k)\n",
    "    context = \"\\n\".join(relevant_chunks)\n",
    "\n",
    "    # ساخت پرامپت\n",
    "    #سؤال + context از PDF به مدل داده میشه.\n",
    "    prompt = f\"سؤال: {query}\\n\\nمتن مرتبط از سند:\\n{context}\\n\\n\"\n",
    "\n",
    "    # آماده‌سازی ورودی\n",
    "    inputs = tokenizer(prompt, return_tensors=\"pt\").to(model.device)\n",
    "\n",
    "    # تولید جواب\n",
    "    outputs = model.generate(\n",
    "        **inputs,\n",
    "        max_new_tokens=max_new_tokens,\n",
    "        do_sample=True,\n",
    "        top_k=50,\n",
    "        top_p=0.9,\n",
    "        temperature=0.7,\n",
    "        repetition_penalty=1.1,\n",
    "    )\n",
    "\n",
    "    response = tokenizer.decode(outputs[0], skip_special_tokens=True)\n",
    "    return response.strip()\n"
   ],
   "id": "6e01bca0808b59c0",
   "outputs": [],
   "execution_count": 5
  },
  {
   "metadata": {
    "ExecuteTime": {
     "end_time": "2025-09-28T18:23:25.179778Z",
     "start_time": "2025-09-28T18:23:15.632238Z"
    }
   },
   "cell_type": "code",
   "source": [
    "while True:\n",
    "    user_query = input(\"سؤال شما (برای خروج بنویسید 'خروج'): \")\n",
    "    if user_query.strip().lower() == \"خروج\":\n",
    "        break\n",
    "    response = generate_response(user_query)\n",
    "    print(\"چت‌بات:\", response)\n"
   ],
   "id": "933a1891337f39ba",
   "outputs": [],
   "execution_count": 6
  },
  {
   "metadata": {},
   "cell_type": "code",
   "outputs": [],
   "execution_count": null,
   "source": "",
   "id": "6bdcd610e23cbb41"
  }
 ],
 "metadata": {
  "kernelspec": {
   "display_name": "Python 3",
   "language": "python",
   "name": "python3"
  },
  "language_info": {
   "codemirror_mode": {
    "name": "ipython",
    "version": 2
   },
   "file_extension": ".py",
   "mimetype": "text/x-python",
   "name": "python",
   "nbconvert_exporter": "python",
   "pygments_lexer": "ipython2",
   "version": "2.7.6"
  }
 },
 "nbformat": 4,
 "nbformat_minor": 5
}
