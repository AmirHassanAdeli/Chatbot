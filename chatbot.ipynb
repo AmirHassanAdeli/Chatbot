{
 "cells": [
  {
   "metadata": {
    "ExecuteTime": {
     "end_time": "2025-09-29T22:42:55.374017Z",
     "start_time": "2025-09-29T22:42:55.369772Z"
    }
   },
   "cell_type": "code",
   "source": [
    "with open('processed_text.txt', 'r', encoding='utf-8') as f:\n",
    "    text = f.read()\n",
    "\n",
    "chunk = 1000\n",
    "chunks = [text[i: i + chunk] for i in range(0, len(text), chunk)]"
   ],
   "id": "1552a1f487695d23",
   "outputs": [],
   "execution_count": 39
  },
  {
   "metadata": {
    "ExecuteTime": {
     "end_time": "2025-09-29T22:43:01.545911Z",
     "start_time": "2025-09-29T22:42:55.374818Z"
    }
   },
   "cell_type": "code",
   "source": [
    "from sentence_transformers import SentenceTransformer  # SentenceTransformer.shape() --> مثلاً ۳۸۴ یا ۷۶۸ بعدی\n",
    "import numpy as np\n",
    "\n",
    "# مدل چندزبانه MiniLM که فارسی رو هم پشتیبانی می‌کنه\n",
    "embedder = SentenceTransformer(\"paraphrase-multilingual-MiniLM-L12-v2\")\n",
    "\n",
    "# گرفتن embedding برای هر chunk\n",
    "embeddings = embedder.encode(chunks, convert_to_tensor=False)\n",
    "embeddings = np.array(embeddings).astype(\"float32\")  # خروجی تبدیل به float32 میشه چون FAISS فقط با float32 کار می‌کنه.\n",
    "\n",
    "# اینجا embeddingها رو داخل یک دیتابیس سریع جستجو قرار می‌دیم:\n",
    "import faiss\n",
    "\n",
    "dimension = embeddings.shape[1]  # تعداد ابعاد بردار (مثلاً 384)\n",
    "index = faiss.IndexFlatL2(dimension)  # یعنی جستجو بر اساس فاصله اقلیدسی L2\n",
    "index.add(embeddings)\n"
   ],
   "id": "b2c3027344c73bc7",
   "outputs": [],
   "execution_count": 40
  },
  {
   "metadata": {
    "ExecuteTime": {
     "end_time": "2025-09-29T22:43:01.551399Z",
     "start_time": "2025-09-29T22:43:01.546706Z"
    }
   },
   "cell_type": "code",
   "source": [
    "# جستجوی chunkهای مرتبط (فقط متن‌ها)\n",
    "def retrive_relevant_chunks(query, top_k=3):\n",
    "    query_embedding = embedder.encode([query], convert_to_tensor=False).astype(\"float32\")\n",
    "    distances, indexes = index.search(query_embedding, top_k)\n",
    "    return [chunks[i] for i in indexes[0]]  # فقط متن"
   ],
   "id": "275e8cb02b9dfb33",
   "outputs": [],
   "execution_count": 41
  },
  {
   "metadata": {
    "ExecuteTime": {
     "end_time": "2025-09-29T22:43:04.788489Z",
     "start_time": "2025-09-29T22:43:01.553373Z"
    }
   },
   "cell_type": "code",
   "source": [
    "from transformers import AutoTokenizer, AutoModelForCausalLM\n",
    "import torch\n",
    "\n",
    "model_name = \"deepseek-ai/DeepSeek-R1-Distill-Qwen-1.5B\"\n",
    "tokenizer = AutoTokenizer.from_pretrained(model_name)\n",
    "\n",
    "# نصف دقت (half precision) → سرعت بیشتر و RAM کمتر\n",
    "model = AutoModelForCausalLM.from_pretrained(\n",
    "    model_name, device_map=\"auto\", dtype=torch.float16\n",
    ")"
   ],
   "id": "e29122f73d265c45",
   "outputs": [],
   "execution_count": 42
  },
  {
   "metadata": {
    "ExecuteTime": {
     "end_time": "2025-09-29T22:51:54.102392Z",
     "start_time": "2025-09-29T22:51:54.098307Z"
    }
   },
   "cell_type": "code",
   "source": [
    "def generate_response(query, top_k=3, max_new_tokens=150):\n",
    "    relevant_chunks = retrive_relevant_chunks(query, top_k=top_k)\n",
    "    context = \"\\n\".join(relevant_chunks)\n",
    "\n",
    "    prompt = f\"\"\"\n",
    "شما یک دستیار هوشمند هستید. پاسخ شما باید کوتاه، دقیق و به زبان فارسی روان باشد. \n",
    "اگر جواب در متن نبود، بگو: «در متن پاسخی پیدا نشد.»\n",
    "\n",
    "❓ سؤال: {query}\n",
    "\n",
    "📖 متن مرتبط از سند:\n",
    "{context}\n",
    "\n",
    "✍️ پاسخ به فارسی:\n",
    "\"\"\"\n",
    "\n",
    "    inputs = tokenizer(prompt, return_tensors=\"pt\").to(model.device)\n",
    "\n",
    "    outputs = model.generate(\n",
    "        **inputs,\n",
    "        max_new_tokens=max_new_tokens,\n",
    "        do_sample=False,\n",
    "        temperature=0.0,\n",
    "        repetition_penalty=1.05,\n",
    "        pad_token_id=tokenizer.eos_token_id\n",
    "    )\n",
    "\n",
    "    response = tokenizer.decode(outputs[0], skip_special_tokens=True)\n",
    "\n",
    "    # فقط متن بعد از \"✍️ پاسخ به فارسی:\" نگه داشته بشه\n",
    "    if \"✍️ پاسخ به فارسی:\" in response:\n",
    "        response = response.split(\"✍️ پاسخ به فارسی:\")[-1]\n",
    "\n",
    "    return response.strip()\n"
   ],
   "id": "6e01bca0808b59c0",
   "outputs": [],
   "execution_count": 60
  },
  {
   "metadata": {
    "ExecuteTime": {
     "end_time": "2025-09-29T22:51:56.387763Z",
     "start_time": "2025-09-29T22:51:54.937226Z"
    }
   },
   "cell_type": "code",
   "source": [
    "query = \"نقش دانشگاه در توسعه علمی کشور چیست؟\"\n",
    "answer = generate_response(query, top_k=5)\n",
    "print(\"پاسخ مدل:\\n\", answer)\n"
   ],
   "id": "a1f545f94ac63c3",
   "outputs": [
    {
     "name": "stdout",
     "output_type": "stream",
     "text": [
      "پاسخ مدل:\n",
      " </think>\n",
      "\n",
      "اگر پاسخ در متن نبود، بگو: «در متن پاسخی پیدا نشد.»\n"
     ]
    }
   ],
   "execution_count": 61
  },
  {
   "metadata": {
    "ExecuteTime": {
     "end_time": "2025-09-29T22:43:35.129867Z",
     "start_time": "2025-09-29T22:43:04.793846Z"
    }
   },
   "cell_type": "code",
   "source": [
    "while True:\n",
    "    user_query = input(\"❓ سؤال شما (برای خروج بنویسید 'خروج'): \")\n",
    "\n",
    "    if user_query.strip().lower() in [\"خروج\", \"exit\", \"quit\"]:\n",
    "        print(\"چت‌بات: ✅ خداحافظ! 🌹\")\n",
    "        break\n",
    "\n",
    "    try:\n",
    "        response = generate_response(user_query)\n",
    "        print(\"🤖 چت‌بات:\", response, \"\\n\")\n",
    "\n",
    "    except Exception as e:\n",
    "        print(\"⚠️ خطا در پردازش:\", str(e))\n"
   ],
   "id": "933a1891337f39ba",
   "outputs": [
    {
     "name": "stdout",
     "output_type": "stream",
     "text": [
      "🤖 چت‌بات: </think>\n",
      "\n",
      "اگر جواب در متن نبود، بگو: «در متن پاسخی پیدا نشد.» \n",
      "\n",
      "چت‌بات: ✅ خداحافظ! 🌹\n"
     ]
    }
   ],
   "execution_count": 44
  }
 ],
 "metadata": {
  "kernelspec": {
   "display_name": "Python 3",
   "language": "python",
   "name": "python3"
  },
  "language_info": {
   "codemirror_mode": {
    "name": "ipython",
    "version": 2
   },
   "file_extension": ".py",
   "mimetype": "text/x-python",
   "name": "python",
   "nbconvert_exporter": "python",
   "pygments_lexer": "ipython2",
   "version": "2.7.6"
  }
 },
 "nbformat": 4,
 "nbformat_minor": 5
}
