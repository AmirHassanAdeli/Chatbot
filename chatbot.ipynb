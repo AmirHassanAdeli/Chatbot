{
 "cells": [
  {
   "metadata": {
    "ExecuteTime": {
     "end_time": "2025-10-03T21:36:01.840421Z",
     "start_time": "2025-10-03T21:36:01.837634Z"
    }
   },
   "cell_type": "code",
   "source": [
    "from transformers import AutoTokenizer, AutoModelForCausalLM\n",
    "import torch\n",
    "import faiss"
   ],
   "id": "a56eee7049e9e84e",
   "outputs": [],
   "execution_count": 37
  },
  {
   "metadata": {
    "ExecuteTime": {
     "end_time": "2025-10-03T21:36:01.849029Z",
     "start_time": "2025-10-03T21:36:01.841191Z"
    }
   },
   "cell_type": "code",
   "source": [
    "# 1️⃣ استخراج و پیش‌پردازش PDF\n",
    "\n",
    "with open(\"processed_text.txt\", \"r\", encoding=\"utf-8\") as f:\n",
    "    text = f.read()"
   ],
   "id": "192c180d3ddf5d6b",
   "outputs": [],
   "execution_count": 38
  },
  {
   "metadata": {
    "ExecuteTime": {
     "end_time": "2025-10-03T21:36:01.857107Z",
     "start_time": "2025-10-03T21:36:01.849892Z"
    }
   },
   "cell_type": "code",
   "source": [
    "# 2️⃣ تقسیم متن به بخش‌های کوچک\n",
    "chunk_size = 1000\n",
    "chunks = [text[i:i + chunk_size] for i in range(0, len(text), chunk_size)]"
   ],
   "id": "ae868d5de8cedea",
   "outputs": [],
   "execution_count": 39
  },
  {
   "metadata": {
    "ExecuteTime": {
     "end_time": "2025-10-03T21:36:09.681819Z",
     "start_time": "2025-10-03T21:36:01.857895Z"
    }
   },
   "cell_type": "code",
   "source": [
    "# 3️⃣ ساخت Embedding و Vector Store با FAISS\n",
    "from sentence_transformers import SentenceTransformer\n",
    "\n",
    "embedding_model_name = \"sentence-transformers/paraphrase-multilingual-MiniLM-L12-v2\"\n",
    "\n",
    "device = torch.device(\"cuda\" if torch.cuda.is_available() else \"cpu\")\n",
    "\n",
    "embedder = SentenceTransformer(embedding_model_name, device=device)\n",
    "\n",
    "# تبدیل chunks به embeddings\n",
    "chunk_embeddings = embedder.encode(chunks, convert_to_tensor=True, device=embedder.device)\n",
    "\n",
    "# نرمال‌سازی embeddings برای Cosine similarity\n",
    "chunk_embeddings = torch.nn.functional.normalize(chunk_embeddings, p=2, dim=1)\n",
    "chunk_embeddings = chunk_embeddings.cpu().numpy()  # FAISS نیاز به numpy دارد\n",
    "\n",
    "dim = chunk_embeddings.shape[1]\n",
    "index = faiss.IndexFlatIP(dim)  # Inner Product = Cosine similarity بعد از normalize\n",
    "index.add(chunk_embeddings)\n"
   ],
   "id": "f0412a54d038ae74",
   "outputs": [],
   "execution_count": 40
  },
  {
   "metadata": {
    "ExecuteTime": {
     "end_time": "2025-10-03T21:36:13.984734Z",
     "start_time": "2025-10-03T21:36:09.683873Z"
    }
   },
   "cell_type": "code",
   "source": [
    "model_name = \"lightblue/DeepSeek-R1-Distill-Qwen-1.5B-Multilingual\"\n",
    "\n",
    "device = torch.device(\"cuda\" if torch.cuda.is_available() else \"cpu\")\n",
    "\n",
    "tokenizer = AutoTokenizer.from_pretrained(model_name, trust_remote_code=True)\n",
    "model = AutoModelForCausalLM.from_pretrained(\n",
    "    model_name,\n",
    "    trust_remote_code=True,\n",
    "    dtype=torch.float16\n",
    ").to(device)\n"
   ],
   "id": "93c3017c57306642",
   "outputs": [],
   "execution_count": 41
  },
  {
   "metadata": {
    "ExecuteTime": {
     "end_time": "2025-10-03T21:36:13.989790Z",
     "start_time": "2025-10-03T21:36:13.985484Z"
    }
   },
   "cell_type": "code",
   "source": [
    "def answer_question(question, top_k=5, max_new_tokens=200):\n",
    "    # 1️⃣ ساخت embedding سوال\n",
    "    question_embedding = embedder.encode([question], convert_to_tensor=True, device=embedder.device)\n",
    "    question_embedding = torch.nn.functional.normalize(question_embedding, p=2, dim=1)\n",
    "    question_embedding = question_embedding.cpu().numpy()\n",
    "\n",
    "    # 2️⃣ پیدا کردن بخش‌های مرتبط\n",
    "    D, I = index.search(question_embedding, top_k)\n",
    "    relevant_chunks = [chunks[i] for i in I[0]]\n",
    "\n",
    "    # 3️⃣ آماده‌سازی prompt\n",
    "    prompt = \"متن مرجع:\\n\" + \"\\n\\n\".join(relevant_chunks) + f\"\\n\\nسوال: {question}\\nپاسخ:\"\n",
    "\n",
    "    # 4️⃣ تولید پاسخ با کاهش مصرف حافظه\n",
    "    inputs = tokenizer(prompt, return_tensors=\"pt\").to(device)\n",
    "    outputs = model.generate(\n",
    "        **inputs,\n",
    "        max_new_tokens=max_new_tokens,\n",
    "        temperature=0.7,\n",
    "        top_p=0.9,\n",
    "        do_sample=True,\n",
    "        eos_token_id=tokenizer.eos_token_id,\n",
    "        repetition_penalty=1.2,\n",
    "        num_beams=3\n",
    "    )\n",
    "\n",
    "    # 5️⃣ استخراج پاسخ نهایی (جدا کردن prompt)\n",
    "    answer = tokenizer.decode(outputs[0], skip_special_tokens=True)\n",
    "    answer = answer.split(\"پاسخ:\")[-1].strip()\n",
    "    return answer"
   ],
   "id": "b1bf501f87eddd92",
   "outputs": [],
   "execution_count": 42
  },
  {
   "metadata": {
    "ExecuteTime": {
     "end_time": "2025-10-03T21:36:22.200464Z",
     "start_time": "2025-10-03T21:36:13.990990Z"
    }
   },
   "cell_type": "code",
   "source": [
    "question = \"خلاصه‌ای از محتوای PDF بده.\"\n",
    "print(answer_question(question))"
   ],
   "id": "40f297c54dd28fff",
   "outputs": [
    {
     "name": "stderr",
     "output_type": "stream",
     "text": [
      "Setting `pad_token_id` to `eos_token_id`:151643 for open-end generation.\n"
     ]
    },
    {
     "name": "stdout",
     "output_type": "stream",
     "text": [
      "**  \n",
      "\"خلاصه از محتوای PDF\"\n"
     ]
    }
   ],
   "execution_count": 43
  }
 ],
 "metadata": {
  "kernelspec": {
   "display_name": "Python 3",
   "language": "python",
   "name": "python3"
  },
  "language_info": {
   "codemirror_mode": {
    "name": "ipython",
    "version": 2
   },
   "file_extension": ".py",
   "mimetype": "text/x-python",
   "name": "python",
   "nbconvert_exporter": "python",
   "pygments_lexer": "ipython2",
   "version": "2.7.6"
  }
 },
 "nbformat": 4,
 "nbformat_minor": 5
}
